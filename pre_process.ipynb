{
 "cells": [
  {
   "cell_type": "code",
   "execution_count": null,
   "id": "50899db8",
   "metadata": {},
   "outputs": [],
   "source": [
    "print(\"dsadsadsa\")"
   ]
  },
  {
   "cell_type": "code",
   "execution_count": null,
   "id": "ba9aec18",
   "metadata": {},
   "outputs": [],
   "source": [
    "import pandas as pd\n",
    "from sklearn.utils import resample\n",
    "from pathlib import Path\n",
    "\n",
    "dataset_dir = Path(\"./data/raw\")\n",
    "dataset_dir.mkdir(parents=True, exist_ok=True)  # Ensure the directory exists\n",
    "dataset_path = dataset_dir / \"creditcard.csv\"\n",
    "df = pd.read_csv(dataset_path)\n",
    "#df.head"
   ]
  },
  {
   "cell_type": "code",
   "execution_count": null,
   "id": "381b76d2",
   "metadata": {},
   "outputs": [],
   "source": [
    "# Load the dataset (Ensure you have 'creditcard.csv' in your working directory)\n",
    "df = pd.read_csv(dataset_path)\n",
    "\n",
    "# Check class distribution\n",
    "print(\"Original class distribution:\")\n",
    "print(df[\"Class\"].value_counts())\n",
    "\n",
    "# Separate majority and minority classes\n",
    "df_majority = df[df[\"Class\"] == 0]  # Non-fraudulent transactions\n",
    "df_minority = df[df[\"Class\"] == 1]  # Fraudulent transactions\n",
    "\n",
    "# Apply undersampling: Reduce majority class to match minority class size\n",
    "df_majority_undersampled = resample(df_majority, \n",
    "                                    replace=False,    # Sample without replacement\n",
    "                                    n_samples=len(df_minority),  # Match minority class size\n",
    "                                    random_state=42)  # Reproducibility\n",
    "\n",
    "# Combine minority class with undersampled majority class\n",
    "df_undersampled = pd.concat([df_majority_undersampled, df_minority])\n",
    "\n",
    "# Check new class distribution\n",
    "print(\"\\nNew class distribution after undersampling:\")\n",
    "print(df_undersampled[\"Class\"].value_counts())\n",
    "\n",
    "# Save the new dataset\n",
    "#new_dataset_path = dataset_dir / \"creditcard_undersampled.csv\"\n",
    "#df_undersampled.to_csv(dataset_path, index=False)\n",
    "print(\"\\nUndersampled dataset saved as 'creditcard_undersampled.csv'.\")"
   ]
  },
  {
   "cell_type": "code",
   "execution_count": null,
   "id": "4ee18d92",
   "metadata": {},
   "outputs": [],
   "source": [
    "from sklearn.model_selection import train_test_split\n",
    "from sklearn.preprocessing import StandardScaler\n",
    "y = df_undersampled[\"Class\"]\n",
    "y=y.to_numpy()\n",
    "temp_df=df_undersampled\n",
    "temp_df=temp_df.drop(columns=[\"Class\"])\n",
    "column_names=temp_df.columns\n",
    "X = df_undersampled.drop(columns=[\"Class\"]).to_numpy()\n",
    "\n",
    "\n",
    "#Normalize features\n",
    "scaler = StandardScaler()\n",
    "X_scaled = scaler.fit_transform(X)\n",
    "#X_scaled = pd.DataFrame(scaler.fit_transform(X), columns=X.columns)\n",
    "    \n",
    "# Split into train, validation, and test sets\n",
    "X_train, X_temp, y_train, y_temp = train_test_split(X_scaled,y, test_size=0.3, random_state=42)\n",
    "X_val, X_test, y_val, y_test = train_test_split(X_temp, y_temp, test_size=0.5, random_state=42)\n",
    "    \n",
    "# Convert to DataFrame for saving\n",
    "train_df = pd.DataFrame(X_train, columns=column_names)\n",
    "\n",
    "train_df[\"Class\"] = y_train.astype(\"float\")\n",
    "val_df = pd.DataFrame(X_val, columns=column_names)\n",
    "val_df[\"Class\"] = y_val.astype(\"float\")\n",
    "test_df = pd.DataFrame(X_test, columns=column_names)\n",
    "test_df[\"Class\"] = y_test.astype(\"float\")\n",
    "\n",
    "#logger.info(\"Preprocessed data and split into train, validation, and test sets.\")\n",
    "\n"
   ]
  },
  {
   "cell_type": "code",
   "execution_count": null,
   "id": "6520e108",
   "metadata": {},
   "outputs": [],
   "source": [
    "import boto3\n",
    "\n",
    "# MinIO credentials and endpoint\n",
    "endpoint_url = \"http://localhost:9000\"  # Adjust if running remotely\n",
    "aws_access_key_id = \"user\"\n",
    "aws_secret_access_key = \"WW4e69Wwcv0w\"\n",
    "bucket_name = \"models-bucket\"\n",
    "file_path = \"userprefix.json\"\n",
    "object_name = \"uploaded_example.txt\"\n",
    "\n",
    "# Create S3 client\n",
    "s3_client = boto3.client(\n",
    "    \"s3\",\n",
    "    endpoint_url=endpoint_url,  # MinIO URL\n",
    "    aws_access_key_id=aws_access_key_id,\n",
    "    aws_secret_access_key=aws_secret_access_key\n",
    ")\n",
    "\n",
    "# Upload file\n",
    "s3_client.upload_file(file_path, bucket_name, object_name)\n",
    "\n",
    "print(f\"File {file_path} uploaded to {bucket_name} as {object_name}\")"
   ]
  },
  {
   "cell_type": "markdown",
   "id": "08bbb639",
   "metadata": {},
   "source": [
    "## MLFLOW"
   ]
  },
  {
   "cell_type": "code",
   "execution_count": null,
   "id": "f6005c2d",
   "metadata": {},
   "outputs": [],
   "source": [
    "import mlflow\n",
    "import os\n",
    "\"\"\"Configure MLflow tracking.\"\"\"\n",
    "os.environ['MLFLOW_TRACKING_URI'] = 'http://localhost:5000'\n",
    "# Set the MLflow tracking username who is created this work\n",
    "os.environ['MLFLOW_TRACKING_USERNAME'] = \"user\"\n",
    "client = mlflow.tracking.MlflowClient()\n",
    "experiment = client.get_experiment_by_name(\"creditcard_fraud_detection12321\")\n",
    "experiment_id=None\n",
    "if experiment is None:\n",
    "    experiment = client.create_experiment(\"creditcard_fraud_detectio12321\")\n",
    "    experiment_id=experiment.experiment_id\n",
    "else:\n",
    "    experiment_id = experiment.experiment_id\n",
    "\n",
    "mlflow.set_experiment(experiment_id=experiment_id)\n",
    "\n"
   ]
  },
  {
   "cell_type": "code",
   "execution_count": null,
   "id": "1c6f3fa8",
   "metadata": {},
   "outputs": [],
   "source": [
    "\n",
    "import mlflow\n",
    "import os\n",
    "\n",
    "\n",
    "\"\"\"Configure MLflow tracking.\"\"\"\n",
    "os.environ['MLFLOW_TRACKING_URI'] = 'http://localhost:5000'  # Adjust for remote\n",
    "os.environ['MLFLOW_TRACKING_USERNAME'] = \"user\"\n",
    "client = mlflow.tracking.MlflowClient()\n",
    "exp_name=\"Creditcard-Fraud-Detection\"\n",
    "# Check if experiment already exists\n",
    "experiment = client.get_experiment_by_name(exp_name)\n",
    "if experiment is None:\n",
    "    experiment_id = client.create_experiment(exp_name)\n",
    "    \n",
    "else:\n",
    "    experiment_id = experiment.experiment_id\n",
    "\n",
    "mlflow.set_experiment(experiment_id=experiment_id)\n",
    "print(f\"MLflow experiment set up: id {experiment_id}\")\n",
    "mlflow.log_metric(\"Test size\", 50)\n"
   ]
  },
  {
   "cell_type": "code",
   "execution_count": 1,
   "id": "6908d336",
   "metadata": {},
   "outputs": [
    {
     "name": "stderr",
     "output_type": "stream",
     "text": [
      "2025/05/16 22:48:34 WARNING mlflow.models.model: Model logged without a signature and input example. Please set `input_example` parameter when logging the model to auto infer the model signature.\n"
     ]
    },
    {
     "name": "stdout",
     "output_type": "stream",
     "text": [
      "🏃 View run caring-mare-838 at: http://localhost:5000/#/experiments/2/runs/f4a1ef93fa7e42abbfcac77445402efb\n",
      "🧪 View experiment at: http://localhost:5000/#/experiments/2\n"
     ]
    }
   ],
   "source": [
    "import mlflow\n",
    "\n",
    "mlflow.set_tracking_uri(\"http://localhost:5000\")\n",
    "mlflow.set_experiment(\"my_experiment_regression\")\n",
    "\n",
    "import mlflow.sklearn\n",
    "from sklearn.linear_model import LinearRegression\n",
    "from sklearn.datasets import make_regression\n",
    "\n",
    "# Generate dummy data\n",
    "X, y = make_regression(n_samples=100, n_features=2, noise=0.1)\n",
    "model = LinearRegression().fit(X, y)\n",
    "\n",
    "# Start a new MLflow run\n",
    "with mlflow.start_run():\n",
    "    mlflow.sklearn.log_model(model, \"model\")\n",
    "    mlflow.log_param(\"coef_\", model.coef_.tolist())\n",
    "    mlflow.log_metric(\"score\", model.score(X, y))"
   ]
  }
 ],
 "metadata": {
  "kernelspec": {
   "display_name": "data_sci (3.13.3)",
   "language": "python",
   "name": "python3"
  },
  "language_info": {
   "codemirror_mode": {
    "name": "ipython",
    "version": 3
   },
   "file_extension": ".py",
   "mimetype": "text/x-python",
   "name": "python",
   "nbconvert_exporter": "python",
   "pygments_lexer": "ipython3",
   "version": "3.13.3"
  }
 },
 "nbformat": 4,
 "nbformat_minor": 5
}
