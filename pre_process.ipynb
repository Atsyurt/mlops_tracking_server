{
 "cells": [
  {
   "cell_type": "code",
   "execution_count": 1,
   "id": "50899db8",
   "metadata": {},
   "outputs": [
    {
     "name": "stdout",
     "output_type": "stream",
     "text": [
      "dsadsadsa\n"
     ]
    }
   ],
   "source": [
    "print(\"dsadsadsa\")"
   ]
  },
  {
   "cell_type": "code",
   "execution_count": 5,
   "id": "ba9aec18",
   "metadata": {},
   "outputs": [],
   "source": [
    "import pandas as pd\n",
    "from sklearn.utils import resample\n",
    "from pathlib import Path\n",
    "\n",
    "dataset_dir = Path(\"./data/raw\")\n",
    "dataset_dir.mkdir(parents=True, exist_ok=True)  # Ensure the directory exists\n",
    "dataset_path = dataset_dir / \"creditcard.csv\"\n",
    "df = pd.read_csv(dataset_path)\n",
    "#df.head"
   ]
  },
  {
   "cell_type": "code",
   "execution_count": 6,
   "id": "381b76d2",
   "metadata": {},
   "outputs": [
    {
     "name": "stdout",
     "output_type": "stream",
     "text": [
      "Original class distribution:\n",
      "Class\n",
      "0    284315\n",
      "1       492\n",
      "Name: count, dtype: int64\n",
      "\n",
      "New class distribution after undersampling:\n",
      "Class\n",
      "0    492\n",
      "1    492\n",
      "Name: count, dtype: int64\n",
      "\n",
      "Undersampled dataset saved as 'creditcard_undersampled.csv'.\n"
     ]
    }
   ],
   "source": [
    "# Load the dataset (Ensure you have 'creditcard.csv' in your working directory)\n",
    "df = pd.read_csv(dataset_path)\n",
    "\n",
    "# Check class distribution\n",
    "print(\"Original class distribution:\")\n",
    "print(df[\"Class\"].value_counts())\n",
    "\n",
    "# Separate majority and minority classes\n",
    "df_majority = df[df[\"Class\"] == 0]  # Non-fraudulent transactions\n",
    "df_minority = df[df[\"Class\"] == 1]  # Fraudulent transactions\n",
    "\n",
    "# Apply undersampling: Reduce majority class to match minority class size\n",
    "df_majority_undersampled = resample(df_majority, \n",
    "                                    replace=False,    # Sample without replacement\n",
    "                                    n_samples=len(df_minority),  # Match minority class size\n",
    "                                    random_state=42)  # Reproducibility\n",
    "\n",
    "# Combine minority class with undersampled majority class\n",
    "df_undersampled = pd.concat([df_majority_undersampled, df_minority])\n",
    "\n",
    "# Check new class distribution\n",
    "print(\"\\nNew class distribution after undersampling:\")\n",
    "print(df_undersampled[\"Class\"].value_counts())\n",
    "\n",
    "# Save the new dataset\n",
    "#new_dataset_path = dataset_dir / \"creditcard_undersampled.csv\"\n",
    "#df_undersampled.to_csv(dataset_path, index=False)\n",
    "print(\"\\nUndersampled dataset saved as 'creditcard_undersampled.csv'.\")"
   ]
  },
  {
   "cell_type": "code",
   "execution_count": null,
   "id": "4ee18d92",
   "metadata": {},
   "outputs": [],
   "source": [
    "from sklearn.model_selection import train_test_split\n",
    "from sklearn.preprocessing import StandardScaler\n",
    "y = df_undersampled[\"Class\"]\n",
    "y=y.to_numpy()\n",
    "temp_df=df_undersampled\n",
    "temp_df=temp_df.drop(columns=[\"Class\"])\n",
    "column_names=temp_df.columns\n",
    "X = df_undersampled.drop(columns=[\"Class\"]).to_numpy()\n",
    "\n",
    "\n",
    "#Normalize features\n",
    "scaler = StandardScaler()\n",
    "X_scaled = scaler.fit_transform(X)\n",
    "#X_scaled = pd.DataFrame(scaler.fit_transform(X), columns=X.columns)\n",
    "    \n",
    "# Split into train, validation, and test sets\n",
    "X_train, X_temp, y_train, y_temp = train_test_split(X_scaled,y, test_size=0.3, random_state=42)\n",
    "X_val, X_test, y_val, y_test = train_test_split(X_temp, y_temp, test_size=0.5, random_state=42)\n",
    "    \n",
    "# Convert to DataFrame for saving\n",
    "train_df = pd.DataFrame(X_train, columns=column_names)\n",
    "\n",
    "train_df[\"Class\"] = y_train.astype(\"float\")\n",
    "val_df = pd.DataFrame(X_val, columns=column_names)\n",
    "val_df[\"Class\"] = y_val.astype(\"float\")\n",
    "test_df = pd.DataFrame(X_test, columns=column_names)\n",
    "test_df[\"Class\"] = y_test.astype(\"float\")\n",
    "\n",
    "#logger.info(\"Preprocessed data and split into train, validation, and test sets.\")\n",
    "\n"
   ]
  },
  {
   "cell_type": "code",
   "execution_count": 20,
   "id": "6520e108",
   "metadata": {},
   "outputs": [
    {
     "name": "stdout",
     "output_type": "stream",
     "text": [
      "File userprefix.json uploaded to models-bucket as uploaded_example.txt\n"
     ]
    }
   ],
   "source": [
    "import boto3\n",
    "\n",
    "# MinIO credentials and endpoint\n",
    "endpoint_url = \"http://localhost:9000\"  # Adjust if running remotely\n",
    "aws_access_key_id = \"user\"\n",
    "aws_secret_access_key = \"WW4e69Wwcv0w\"\n",
    "bucket_name = \"models-bucket\"\n",
    "file_path = \"userprefix.json\"\n",
    "object_name = \"uploaded_example.txt\"\n",
    "\n",
    "# Create S3 client\n",
    "s3_client = boto3.client(\n",
    "    \"s3\",\n",
    "    endpoint_url=endpoint_url,  # MinIO URL\n",
    "    aws_access_key_id=aws_access_key_id,\n",
    "    aws_secret_access_key=aws_secret_access_key\n",
    ")\n",
    "\n",
    "# Upload file\n",
    "s3_client.upload_file(file_path, bucket_name, object_name)\n",
    "\n",
    "print(f\"File {file_path} uploaded to {bucket_name} as {object_name}\")"
   ]
  },
  {
   "cell_type": "markdown",
   "id": "08bbb639",
   "metadata": {},
   "source": [
    "## MLFLOW"
   ]
  },
  {
   "cell_type": "code",
   "execution_count": null,
   "id": "f6005c2d",
   "metadata": {},
   "outputs": [
    {
     "ename": "AttributeError",
     "evalue": "'str' object has no attribute 'experiment_id'",
     "output_type": "error",
     "traceback": [
      "\u001b[31m---------------------------------------------------------------------------\u001b[39m",
      "\u001b[31mAttributeError\u001b[39m                            Traceback (most recent call last)",
      "\u001b[36mCell\u001b[39m\u001b[36m \u001b[39m\u001b[32mIn[14]\u001b[39m\u001b[32m, line 12\u001b[39m\n\u001b[32m     10\u001b[39m \u001b[38;5;28;01mif\u001b[39;00m experiment \u001b[38;5;129;01mis\u001b[39;00m \u001b[38;5;28;01mNone\u001b[39;00m:\n\u001b[32m     11\u001b[39m     experiment = client.create_experiment(\u001b[33m\"\u001b[39m\u001b[33mcreditcard_fraud_detectio12321\u001b[39m\u001b[33m\"\u001b[39m)\n\u001b[32m---> \u001b[39m\u001b[32m12\u001b[39m     experiment_id=\u001b[43mexperiment\u001b[49m\u001b[43m.\u001b[49m\u001b[43mexperiment_id\u001b[49m\n\u001b[32m     13\u001b[39m \u001b[38;5;28;01melse\u001b[39;00m:\n\u001b[32m     14\u001b[39m     experiment_id = experiment.experiment_id\n",
      "\u001b[31mAttributeError\u001b[39m: 'str' object has no attribute 'experiment_id'"
     ]
    }
   ],
   "source": [
    "import mlflow\n",
    "import os\n",
    "\"\"\"Configure MLflow tracking.\"\"\"\n",
    "os.environ['MLFLOW_TRACKING_URI'] = 'http://localhost:5000'\n",
    "# Set the MLflow tracking username who is created this work\n",
    "os.environ['MLFLOW_TRACKING_USERNAME'] = \"user\"\n",
    "client = mlflow.tracking.MlflowClient()\n",
    "experiment = client.get_experiment_by_name(\"creditcard_fraud_detection12321\")\n",
    "experiment_id=None\n",
    "if experiment is None:\n",
    "    experiment = client.create_experiment(\"creditcard_fraud_detectio12321\")\n",
    "    experiment_id=experiment.experiment_id\n",
    "else:\n",
    "    experiment_id = experiment.experiment_id\n",
    "\n",
    "mlflow.set_experiment(experiment_id=experiment_id)\n",
    "\n"
   ]
  },
  {
   "cell_type": "code",
   "execution_count": 5,
   "id": "e29c3ba9",
   "metadata": {},
   "outputs": [
    {
     "name": "stdout",
     "output_type": "stream",
     "text": [
      "<Experiment: artifact_location='http://artifacts-server:5500/api/2.0/mlflow-artifacts/artifacts/experiments/1', creation_time=1747399848011, experiment_id='1', last_update_time=1747403643544, lifecycle_stage='deleted', name='creditcard_fraud_detection', tags={}>\n"
     ]
    }
   ],
   "source": [
    "import mlflow\n",
    "import os\n",
    "\"\"\"Configure MLflow tracking.\"\"\"\n",
    "os.environ['MLFLOW_TRACKING_URI'] = 'http://localhost:5000'\n",
    "# Set the MLflow tracking username who is created this work\n",
    "os.environ['MLFLOW_TRACKING_USERNAME'] = \"user\"\n",
    "client = mlflow.tracking.MlflowClient()\n",
    "experiment = client.get_experiment_by_name(\"creditcard_fraud_detection\")\n",
    "print(experiment)"
   ]
  },
  {
   "cell_type": "code",
   "execution_count": 15,
   "id": "29aff218",
   "metadata": {},
   "outputs": [
    {
     "name": "stdout",
     "output_type": "stream",
     "text": [
      "MLflow experiment set up: id 5\n"
     ]
    }
   ],
   "source": [
    "import mlflow\n",
    "import os\n",
    "\n",
    "\n",
    "\"\"\"Configure MLflow tracking.\"\"\"\n",
    "os.environ['MLFLOW_TRACKING_URI'] = 'http://localhost:5000'  # Adjust for remote\n",
    "os.environ['MLFLOW_TRACKING_USERNAME'] = \"user\"\n",
    "client = mlflow.tracking.MlflowClient()\n",
    "\n",
    "# Check if experiment already exists\n",
    "experiment = client.get_experiment_by_name(\"my_experiment\")\n",
    "if experiment is None:\n",
    "    experiment_id = client.create_experiment(\"my_experiment\")\n",
    "else:\n",
    "    experiment_id = experiment.experiment_id\n",
    "\n",
    "mlflow.set_experiment(experiment_id=experiment_id)\n",
    "print(f\"MLflow experiment set up: id {experiment_id}\")\n"
   ]
  },
  {
   "cell_type": "code",
   "execution_count": null,
   "id": "2eaa301f",
   "metadata": {},
   "outputs": [
    {
     "ename": "RestException",
     "evalue": "RESOURCE_DOES_NOT_EXIST: No Experiment with id=1 exists",
     "output_type": "error",
     "traceback": [
      "\u001b[31m---------------------------------------------------------------------------\u001b[39m",
      "\u001b[31mRestException\u001b[39m                             Traceback (most recent call last)",
      "\u001b[36mCell\u001b[39m\u001b[36m \u001b[39m\u001b[32mIn[17]\u001b[39m\u001b[32m, line 1\u001b[39m\n\u001b[32m----> \u001b[39m\u001b[32m1\u001b[39m \u001b[43mclient\u001b[49m\u001b[43m.\u001b[49m\u001b[43mdelete_experiment\u001b[49m\u001b[43m(\u001b[49m\u001b[43mexperiment\u001b[49m\u001b[43m.\u001b[49m\u001b[43mexperiment_id\u001b[49m\u001b[43m)\u001b[49m\n",
      "\u001b[36mFile \u001b[39m\u001b[32mc:\\pydata_Env\\data_sci\\Lib\\site-packages\\mlflow\\tracking\\client.py:1792\u001b[39m, in \u001b[36mMlflowClient.delete_experiment\u001b[39m\u001b[34m(self, experiment_id)\u001b[39m\n\u001b[32m   1759\u001b[39m \u001b[38;5;28;01mdef\u001b[39;00m\u001b[38;5;250m \u001b[39m\u001b[34mdelete_experiment\u001b[39m(\u001b[38;5;28mself\u001b[39m, experiment_id: \u001b[38;5;28mstr\u001b[39m) -> \u001b[38;5;28;01mNone\u001b[39;00m:\n\u001b[32m   1760\u001b[39m \u001b[38;5;250m    \u001b[39m\u001b[33;03m\"\"\"Delete an experiment from the backend store.\u001b[39;00m\n\u001b[32m   1761\u001b[39m \n\u001b[32m   1762\u001b[39m \u001b[33;03m    This deletion is a soft-delete, not a permanent deletion. Experiment names can not be\u001b[39;00m\n\u001b[32m   (...)\u001b[39m\u001b[32m   1790\u001b[39m \n\u001b[32m   1791\u001b[39m \u001b[33;03m    \"\"\"\u001b[39;00m\n\u001b[32m-> \u001b[39m\u001b[32m1792\u001b[39m     \u001b[38;5;28;43mself\u001b[39;49m\u001b[43m.\u001b[49m\u001b[43m_tracking_client\u001b[49m\u001b[43m.\u001b[49m\u001b[43mdelete_experiment\u001b[49m\u001b[43m(\u001b[49m\u001b[43mexperiment_id\u001b[49m\u001b[43m)\u001b[49m\n",
      "\u001b[36mFile \u001b[39m\u001b[32mc:\\pydata_Env\\data_sci\\Lib\\site-packages\\mlflow\\tracking\\_tracking_service\\client.py:621\u001b[39m, in \u001b[36mTrackingServiceClient.delete_experiment\u001b[39m\u001b[34m(self, experiment_id)\u001b[39m\n\u001b[32m    614\u001b[39m \u001b[38;5;28;01mdef\u001b[39;00m\u001b[38;5;250m \u001b[39m\u001b[34mdelete_experiment\u001b[39m(\u001b[38;5;28mself\u001b[39m, experiment_id):\n\u001b[32m    615\u001b[39m \u001b[38;5;250m    \u001b[39m\u001b[33;03m\"\"\"Delete an experiment from the backend store.\u001b[39;00m\n\u001b[32m    616\u001b[39m \n\u001b[32m    617\u001b[39m \u001b[33;03m    Args:\u001b[39;00m\n\u001b[32m    618\u001b[39m \u001b[33;03m        experiment_id: The experiment ID returned from ``create_experiment``.\u001b[39;00m\n\u001b[32m    619\u001b[39m \n\u001b[32m    620\u001b[39m \u001b[33;03m    \"\"\"\u001b[39;00m\n\u001b[32m--> \u001b[39m\u001b[32m621\u001b[39m     \u001b[38;5;28;43mself\u001b[39;49m\u001b[43m.\u001b[49m\u001b[43mstore\u001b[49m\u001b[43m.\u001b[49m\u001b[43mdelete_experiment\u001b[49m\u001b[43m(\u001b[49m\u001b[43mexperiment_id\u001b[49m\u001b[43m)\u001b[49m\n",
      "\u001b[36mFile \u001b[39m\u001b[32mc:\\pydata_Env\\data_sci\\Lib\\site-packages\\mlflow\\store\\tracking\\rest_store.py:154\u001b[39m, in \u001b[36mRestStore.delete_experiment\u001b[39m\u001b[34m(self, experiment_id)\u001b[39m\n\u001b[32m    152\u001b[39m \u001b[38;5;28;01mdef\u001b[39;00m\u001b[38;5;250m \u001b[39m\u001b[34mdelete_experiment\u001b[39m(\u001b[38;5;28mself\u001b[39m, experiment_id):\n\u001b[32m    153\u001b[39m     req_body = message_to_json(DeleteExperiment(experiment_id=\u001b[38;5;28mstr\u001b[39m(experiment_id)))\n\u001b[32m--> \u001b[39m\u001b[32m154\u001b[39m     \u001b[38;5;28;43mself\u001b[39;49m\u001b[43m.\u001b[49m\u001b[43m_call_endpoint\u001b[49m\u001b[43m(\u001b[49m\u001b[43mDeleteExperiment\u001b[49m\u001b[43m,\u001b[49m\u001b[43m \u001b[49m\u001b[43mreq_body\u001b[49m\u001b[43m)\u001b[49m\n",
      "\u001b[36mFile \u001b[39m\u001b[32mc:\\pydata_Env\\data_sci\\Lib\\site-packages\\mlflow\\store\\tracking\\rest_store.py:90\u001b[39m, in \u001b[36mRestStore._call_endpoint\u001b[39m\u001b[34m(self, api, json_body, endpoint)\u001b[39m\n\u001b[32m     88\u001b[39m     endpoint, method = _METHOD_TO_INFO[api]\n\u001b[32m     89\u001b[39m response_proto = api.Response()\n\u001b[32m---> \u001b[39m\u001b[32m90\u001b[39m \u001b[38;5;28;01mreturn\u001b[39;00m \u001b[43mcall_endpoint\u001b[49m\u001b[43m(\u001b[49m\u001b[38;5;28;43mself\u001b[39;49m\u001b[43m.\u001b[49m\u001b[43mget_host_creds\u001b[49m\u001b[43m(\u001b[49m\u001b[43m)\u001b[49m\u001b[43m,\u001b[49m\u001b[43m \u001b[49m\u001b[43mendpoint\u001b[49m\u001b[43m,\u001b[49m\u001b[43m \u001b[49m\u001b[43mmethod\u001b[49m\u001b[43m,\u001b[49m\u001b[43m \u001b[49m\u001b[43mjson_body\u001b[49m\u001b[43m,\u001b[49m\u001b[43m \u001b[49m\u001b[43mresponse_proto\u001b[49m\u001b[43m)\u001b[49m\n",
      "\u001b[36mFile \u001b[39m\u001b[32mc:\\pydata_Env\\data_sci\\Lib\\site-packages\\mlflow\\utils\\rest_utils.py:402\u001b[39m, in \u001b[36mcall_endpoint\u001b[39m\u001b[34m(host_creds, endpoint, method, json_body, response_proto, extra_headers)\u001b[39m\n\u001b[32m    399\u001b[39m     call_kwargs[\u001b[33m\"\u001b[39m\u001b[33mjson\u001b[39m\u001b[33m\"\u001b[39m] = json_body\n\u001b[32m    400\u001b[39m     response = http_request(**call_kwargs)\n\u001b[32m--> \u001b[39m\u001b[32m402\u001b[39m response = \u001b[43mverify_rest_response\u001b[49m\u001b[43m(\u001b[49m\u001b[43mresponse\u001b[49m\u001b[43m,\u001b[49m\u001b[43m \u001b[49m\u001b[43mendpoint\u001b[49m\u001b[43m)\u001b[49m\n\u001b[32m    403\u001b[39m response_to_parse = response.text\n\u001b[32m    404\u001b[39m js_dict = json.loads(response_to_parse)\n",
      "\u001b[36mFile \u001b[39m\u001b[32mc:\\pydata_Env\\data_sci\\Lib\\site-packages\\mlflow\\utils\\rest_utils.py:259\u001b[39m, in \u001b[36mverify_rest_response\u001b[39m\u001b[34m(response, endpoint)\u001b[39m\n\u001b[32m    257\u001b[39m \u001b[38;5;28;01mif\u001b[39;00m response.status_code != \u001b[32m200\u001b[39m:\n\u001b[32m    258\u001b[39m     \u001b[38;5;28;01mif\u001b[39;00m _can_parse_as_json_object(response.text):\n\u001b[32m--> \u001b[39m\u001b[32m259\u001b[39m         \u001b[38;5;28;01mraise\u001b[39;00m RestException(json.loads(response.text))\n\u001b[32m    260\u001b[39m     \u001b[38;5;28;01melse\u001b[39;00m:\n\u001b[32m    261\u001b[39m         base_msg = (\n\u001b[32m    262\u001b[39m             \u001b[33mf\u001b[39m\u001b[33m\"\u001b[39m\u001b[33mAPI request to endpoint \u001b[39m\u001b[38;5;132;01m{\u001b[39;00mendpoint\u001b[38;5;132;01m}\u001b[39;00m\u001b[33m \u001b[39m\u001b[33m\"\u001b[39m\n\u001b[32m    263\u001b[39m             \u001b[33mf\u001b[39m\u001b[33m\"\u001b[39m\u001b[33mfailed with error code \u001b[39m\u001b[38;5;132;01m{\u001b[39;00mresponse.status_code\u001b[38;5;132;01m}\u001b[39;00m\u001b[33m != 200\u001b[39m\u001b[33m\"\u001b[39m\n\u001b[32m    264\u001b[39m         )\n",
      "\u001b[31mRestException\u001b[39m: RESOURCE_DOES_NOT_EXIST: No Experiment with id=1 exists"
     ]
    }
   ],
   "source": [
    "\n"
   ]
  },
  {
   "cell_type": "code",
   "execution_count": 25,
   "id": "1c6f3fa8",
   "metadata": {},
   "outputs": [
    {
     "name": "stdout",
     "output_type": "stream",
     "text": [
      "MLflow experiment set up: id 9\n"
     ]
    }
   ],
   "source": [
    "\n",
    "import mlflow\n",
    "import os\n",
    "\n",
    "\n",
    "\"\"\"Configure MLflow tracking.\"\"\"\n",
    "os.environ['MLFLOW_TRACKING_URI'] = 'http://localhost:5000'  # Adjust for remote\n",
    "os.environ['MLFLOW_TRACKING_USERNAME'] = \"user\"\n",
    "client = mlflow.tracking.MlflowClient()\n",
    "exp_name=\"Creditcard-Fraud-Detection\"\n",
    "# Check if experiment already exists\n",
    "experiment = client.get_experiment_by_name(exp_name)\n",
    "if experiment is None:\n",
    "    experiment_id = client.create_experiment(exp_name)\n",
    "    \n",
    "else:\n",
    "    experiment_id = experiment.experiment_id\n",
    "\n",
    "mlflow.set_experiment(experiment_id=experiment_id)\n",
    "print(f\"MLflow experiment set up: id {experiment_id}\")\n",
    "mlflow.log_metric(\"Test size\", 50)\n"
   ]
  }
 ],
 "metadata": {
  "kernelspec": {
   "display_name": "data_sci (3.13.3)",
   "language": "python",
   "name": "python3"
  },
  "language_info": {
   "codemirror_mode": {
    "name": "ipython",
    "version": 3
   },
   "file_extension": ".py",
   "mimetype": "text/x-python",
   "name": "python",
   "nbconvert_exporter": "python",
   "pygments_lexer": "ipython3",
   "version": "3.13.3"
  }
 },
 "nbformat": 4,
 "nbformat_minor": 5
}
