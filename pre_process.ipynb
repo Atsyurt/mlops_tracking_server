{
 "cells": [
  {
   "cell_type": "code",
   "execution_count": 1,
   "id": "50899db8",
   "metadata": {},
   "outputs": [
    {
     "name": "stdout",
     "output_type": "stream",
     "text": [
      "dsadsadsa\n"
     ]
    }
   ],
   "source": [
    "print(\"dsadsadsa\")"
   ]
  },
  {
   "cell_type": "code",
   "execution_count": null,
   "id": "ba9aec18",
   "metadata": {},
   "outputs": [],
   "source": [
    "import pandas as pd\n",
    "from sklearn.utils import resample\n",
    "\n"
   ]
  },
  {
   "cell_type": "code",
   "execution_count": null,
   "id": "381b76d2",
   "metadata": {},
   "outputs": [],
   "source": [
    "# Load the dataset (Ensure you have 'creditcard.csv' in your working directory)\n",
    "df = pd.read_csv(\"creditcard.csv\")\n",
    "\n",
    "# Check class distribution\n",
    "print(\"Original class distribution:\")\n",
    "print(df[\"Class\"].value_counts())\n",
    "\n",
    "# Separate majority and minority classes\n",
    "df_majority = df[df[\"Class\"] == 0]  # Non-fraudulent transactions\n",
    "df_minority = df[df[\"Class\"] == 1]  # Fraudulent transactions\n",
    "\n",
    "# Apply undersampling: Reduce majority class to match minority class size\n",
    "df_majority_undersampled = resample(df_majority, \n",
    "                                    replace=False,    # Sample without replacement\n",
    "                                    n_samples=len(df_minority),  # Match minority class size\n",
    "                                    random_state=42)  # Reproducibility\n",
    "\n",
    "# Combine minority class with undersampled majority class\n",
    "df_undersampled = pd.concat([df_majority_undersampled, df_minority])\n",
    "\n",
    "# Check new class distribution\n",
    "print(\"\\nNew class distribution after undersampling:\")\n",
    "print(df_undersampled[\"Class\"].value_counts())\n",
    "\n",
    "# Save the new dataset\n",
    "df_undersampled.to_csv(\"creditcard_undersampled.csv\", index=False)\n",
    "print(\"\\nUndersampled dataset saved as 'creditcard_undersampled.csv'.\")"
   ]
  }
 ],
 "metadata": {
  "kernelspec": {
   "display_name": "data_sci (3.13.3)",
   "language": "python",
   "name": "python3"
  },
  "language_info": {
   "codemirror_mode": {
    "name": "ipython",
    "version": 3
   },
   "file_extension": ".py",
   "mimetype": "text/x-python",
   "name": "python",
   "nbconvert_exporter": "python",
   "pygments_lexer": "ipython3",
   "version": "3.13.3"
  }
 },
 "nbformat": 4,
 "nbformat_minor": 5
}
